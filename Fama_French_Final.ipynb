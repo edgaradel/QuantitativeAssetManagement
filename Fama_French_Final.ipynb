{
 "cells": [
  {
   "cell_type": "code",
   "execution_count": 1,
   "metadata": {
    "colab": {
     "base_uri": "https://localhost:8080/"
    },
    "id": "RXDKrv9IpEdd",
    "outputId": "02d35b07-f8e3-47bb-8499-a49335d9860f"
   },
   "outputs": [
    {
     "name": "stdout",
     "output_type": "stream",
     "text": [
      "Collecting wrds\n",
      "  Downloading wrds-3.2.0-py3-none-any.whl.metadata (5.8 kB)\n",
      "Requirement already satisfied: numpy<1.27,>=1.26 in /usr/local/lib/python3.10/dist-packages (from wrds) (1.26.4)\n",
      "Collecting packaging<23.3 (from wrds)\n",
      "  Downloading packaging-23.2-py3-none-any.whl.metadata (3.2 kB)\n",
      "Requirement already satisfied: pandas<2.3,>=2.2 in /usr/local/lib/python3.10/dist-packages (from wrds) (2.2.2)\n",
      "Collecting psycopg2-binary<2.10,>=2.9 (from wrds)\n",
      "  Downloading psycopg2_binary-2.9.10-cp310-cp310-manylinux_2_17_x86_64.manylinux2014_x86_64.whl.metadata (4.9 kB)\n",
      "Collecting scipy<1.13,>=1.12 (from wrds)\n",
      "  Downloading scipy-1.12.0-cp310-cp310-manylinux_2_17_x86_64.manylinux2014_x86_64.whl.metadata (60 kB)\n",
      "\u001b[2K     \u001b[90m━━━━━━━━━━━━━━━━━━━━━━━━━━━━━━━━━━━━━━━━\u001b[0m \u001b[32m60.4/60.4 kB\u001b[0m \u001b[31m1.3 MB/s\u001b[0m eta \u001b[36m0:00:00\u001b[0m\n",
      "\u001b[?25hRequirement already satisfied: sqlalchemy<2.1,>=2 in /usr/local/lib/python3.10/dist-packages (from wrds) (2.0.36)\n",
      "Requirement already satisfied: python-dateutil>=2.8.2 in /usr/local/lib/python3.10/dist-packages (from pandas<2.3,>=2.2->wrds) (2.8.2)\n",
      "Requirement already satisfied: pytz>=2020.1 in /usr/local/lib/python3.10/dist-packages (from pandas<2.3,>=2.2->wrds) (2024.2)\n",
      "Requirement already satisfied: tzdata>=2022.7 in /usr/local/lib/python3.10/dist-packages (from pandas<2.3,>=2.2->wrds) (2024.2)\n",
      "Requirement already satisfied: typing-extensions>=4.6.0 in /usr/local/lib/python3.10/dist-packages (from sqlalchemy<2.1,>=2->wrds) (4.12.2)\n",
      "Requirement already satisfied: greenlet!=0.4.17 in /usr/local/lib/python3.10/dist-packages (from sqlalchemy<2.1,>=2->wrds) (3.1.1)\n",
      "Requirement already satisfied: six>=1.5 in /usr/local/lib/python3.10/dist-packages (from python-dateutil>=2.8.2->pandas<2.3,>=2.2->wrds) (1.16.0)\n",
      "Downloading wrds-3.2.0-py3-none-any.whl (13 kB)\n",
      "Downloading packaging-23.2-py3-none-any.whl (53 kB)\n",
      "\u001b[2K   \u001b[90m━━━━━━━━━━━━━━━━━━━━━━━━━━━━━━━━━━━━━━━━\u001b[0m \u001b[32m53.0/53.0 kB\u001b[0m \u001b[31m3.1 MB/s\u001b[0m eta \u001b[36m0:00:00\u001b[0m\n",
      "\u001b[?25hDownloading psycopg2_binary-2.9.10-cp310-cp310-manylinux_2_17_x86_64.manylinux2014_x86_64.whl (3.0 MB)\n",
      "\u001b[2K   \u001b[90m━━━━━━━━━━━━━━━━━━━━━━━━━━━━━━━━━━━━━━━━\u001b[0m \u001b[32m3.0/3.0 MB\u001b[0m \u001b[31m25.9 MB/s\u001b[0m eta \u001b[36m0:00:00\u001b[0m\n",
      "\u001b[?25hDownloading scipy-1.12.0-cp310-cp310-manylinux_2_17_x86_64.manylinux2014_x86_64.whl (38.4 MB)\n",
      "\u001b[2K   \u001b[90m━━━━━━━━━━━━━━━━━━━━━━━━━━━━━━━━━━━━━━━━\u001b[0m \u001b[32m38.4/38.4 MB\u001b[0m \u001b[31m13.0 MB/s\u001b[0m eta \u001b[36m0:00:00\u001b[0m\n",
      "\u001b[?25hInstalling collected packages: scipy, psycopg2-binary, packaging, wrds\n",
      "  Attempting uninstall: scipy\n",
      "    Found existing installation: scipy 1.13.1\n",
      "    Uninstalling scipy-1.13.1:\n",
      "      Successfully uninstalled scipy-1.13.1\n",
      "  Attempting uninstall: packaging\n",
      "    Found existing installation: packaging 24.1\n",
      "    Uninstalling packaging-24.1:\n",
      "      Successfully uninstalled packaging-24.1\n",
      "Successfully installed packaging-23.2 psycopg2-binary-2.9.10 scipy-1.12.0 wrds-3.2.0\n"
     ]
    }
   ],
   "source": [
    "!pip install wrds"
   ]
  },
  {
   "cell_type": "code",
   "execution_count": 3,
   "metadata": {
    "id": "xvWLJt1-opZK"
   },
   "outputs": [],
   "source": [
    "# Import necessary libraries\n",
    "import pandas as pd\n",
    "import numpy as np\n",
    "import wrds\n",
    "from datetime import datetime\n",
    "from google.colab import auth\n",
    "import pandas as pd\n",
    "from google.cloud import bigquery"
   ]
  },
  {
   "cell_type": "code",
   "execution_count": 8,
   "metadata": {
    "colab": {
     "base_uri": "https://localhost:8080/"
    },
    "id": "DRQwjb3qtGcG",
    "outputId": "989f6752-06f2-4435-cce2-571612ee7d7b"
   },
   "outputs": [
    {
     "name": "stdout",
     "output_type": "stream",
     "text": [
      "\n",
      "First few rows of the dataframe:\n",
      "                       date       ret     prc    shrout ticker  permno  \\\n",
      "0 2002-06-01 00:00:00+00:00  0.023585   10.85   8976000    HUN   62287   \n",
      "1 2010-02-01 00:00:00+00:00  0.074733    3.02  45587000   HTRN   87451   \n",
      "2 2017-01-01 00:00:00+00:00 -0.014881   23.17  74886000     HW   86042   \n",
      "3 2022-04-01 00:00:00+00:00 -0.107090  313.84   6801000    XLG   17731   \n",
      "4 2007-01-01 00:00:00+00:00  0.006858  108.64   4750000    XLG   90694   \n",
      "\n",
      "    month      mktcap  gvkey  CRSP_YEAR  ...  oancf sale  cogs  xint  xsga  \\\n",
      "0  200206    97.38960   5782       2002  ...    NaN  NaN   NaN   NaN   NaN   \n",
      "1  201002   137.67274   2589       2010  ...    NaN  NaN   NaN   NaN   NaN   \n",
      "2  201701  1735.10862  61576       2017  ...    NaN  NaN   NaN   NaN   NaN   \n",
      "3  202204  2134.42584   <NA>       2022  ...    NaN  NaN   NaN   NaN   NaN   \n",
      "4  200701   516.04000   <NA>       2007  ...    NaN  NaN   NaN   NaN   NaN   \n",
      "\n",
      "   be  op  year  at_lag  inv  \n",
      "0 NaN NaN  <NA>     NaN  NaN  \n",
      "1 NaN NaN  <NA>     NaN  NaN  \n",
      "2 NaN NaN  <NA>     NaN  NaN  \n",
      "3 NaN NaN  <NA>     NaN  NaN  \n",
      "4 NaN NaN  <NA>     NaN  NaN  \n",
      "\n",
      "[5 rows x 33 columns]\n"
     ]
    }
   ],
   "source": [
    "# Display first few rows to verify\n",
    "print(\"\\nFirst few rows of the dataframe:\")\n",
    "print(df.head())"
   ]
  },
  {
   "cell_type": "code",
   "execution_count": 9,
   "metadata": {
    "colab": {
     "base_uri": "https://localhost:8080/"
    },
    "id": "KwLikLunqI8k",
    "outputId": "42a3c3cc-6326-473b-bc4e-39905eb7d44d"
   },
   "outputs": [
    {
     "name": "stdout",
     "output_type": "stream",
     "text": [
      "\n",
      "Dataframe info:\n",
      "<class 'pandas.core.frame.DataFrame'>\n",
      "RangeIndex: 517096 entries, 0 to 517095\n",
      "Data columns (total 33 columns):\n",
      " #   Column     Non-Null Count   Dtype              \n",
      "---  ------     --------------   -----              \n",
      " 0   date       517096 non-null  datetime64[us, UTC]\n",
      " 1   ret        516966 non-null  float64            \n",
      " 2   prc        517072 non-null  float64            \n",
      " 3   shrout     517096 non-null  Int64              \n",
      " 4   ticker     517096 non-null  object             \n",
      " 5   permno     517096 non-null  Int64              \n",
      " 6   month      517096 non-null  Int64              \n",
      " 7   mktcap     517072 non-null  float64            \n",
      " 8   gvkey      502973 non-null  Int64              \n",
      " 9   CRSP_YEAR  517096 non-null  Int64              \n",
      " 10  index      425921 non-null  Int64              \n",
      " 11  datadate   425921 non-null  datetime64[us, UTC]\n",
      " 12  seq        418882 non-null  float64            \n",
      " 13  ceq        418413 non-null  float64            \n",
      " 14  at         418882 non-null  float64            \n",
      " 15  lt         417814 non-null  float64            \n",
      " 16  txditc     343162 non-null  float64            \n",
      " 17  txdb       378047 non-null  float64            \n",
      " 18  itcb       357603 non-null  float64            \n",
      " 19  pstkrv     381111 non-null  float64            \n",
      " 20  pstkl      380912 non-null  float64            \n",
      " 21  pstk       418197 non-null  float64            \n",
      " 22  capx       372560 non-null  float64            \n",
      " 23  oancf      374389 non-null  float64            \n",
      " 24  sale       381815 non-null  float64            \n",
      " 25  cogs       381810 non-null  float64            \n",
      " 26  xint       376819 non-null  float64            \n",
      " 27  xsga       322452 non-null  float64            \n",
      " 28  be         403150 non-null  float64            \n",
      " 29  op         366492 non-null  float64            \n",
      " 30  year       425921 non-null  Int64              \n",
      " 31  at_lag     397396 non-null  float64            \n",
      " 32  inv        397108 non-null  float64            \n",
      "dtypes: Int64(7), datetime64[us, UTC](2), float64(23), object(1)\n",
      "memory usage: 133.6+ MB\n",
      "None\n"
     ]
    }
   ],
   "source": [
    "# Display dataframe info\n",
    "print(\"\\nDataframe info:\")\n",
    "print(df.info())"
   ]
  },
  {
   "cell_type": "code",
   "execution_count": 10,
   "metadata": {
    "id": "N8rCwiyurC1x"
   },
   "outputs": [],
   "source": [
    "# Convert the date column to datetime\n",
    "df['date'] = pd.to_datetime(df['date'])"
   ]
  },
  {
   "cell_type": "code",
   "execution_count": 11,
   "metadata": {
    "id": "hbmHxY-csRJj"
   },
   "outputs": [],
   "source": [
    "first_10_rows = df[:10]"
   ]
  },
  {
   "cell_type": "code",
   "execution_count": 12,
   "metadata": {
    "colab": {
     "base_uri": "https://localhost:8080/"
    },
    "id": "M-463bAOsaRy",
    "outputId": "b7d29704-a4d6-41e9-dbfd-65e372e010ba"
   },
   "outputs": [
    {
     "name": "stdout",
     "output_type": "stream",
     "text": [
      "                       date       ret       prc    shrout ticker  permno  \\\n",
      "0 2002-06-01 00:00:00+00:00  0.023585   10.8500   8976000    HUN   62287   \n",
      "1 2010-02-01 00:00:00+00:00  0.074733    3.0200  45587000   HTRN   87451   \n",
      "2 2017-01-01 00:00:00+00:00 -0.014881   23.1700  74886000     HW   86042   \n",
      "3 2022-04-01 00:00:00+00:00 -0.107090  313.8400   6801000    XLG   17731   \n",
      "4 2007-01-01 00:00:00+00:00  0.006858  108.6400   4750000    XLG   90694   \n",
      "5 2007-12-01 00:00:00+00:00 -0.007280  110.5300   5850000    XLG   90694   \n",
      "6 2011-06-01 00:00:00+00:00 -0.013916   92.3492   4251000    XLG   90694   \n",
      "7 2013-03-01 00:00:00+00:00  0.028757  111.2600   5050000    XLG   90694   \n",
      "8 2004-01-01 00:00:00+00:00 -0.113402    5.1600  13414000   WORK   86200   \n",
      "9 2018-04-01 00:00:00+00:00  0.036910   12.0800  54915000   XCRA   48291   \n",
      "\n",
      "    month       mktcap   gvkey  CRSP_YEAR  ...  oancf sale  cogs  xint  xsga  \\\n",
      "0  200206    97.389600    5782       2002  ...    NaN  NaN   NaN   NaN   NaN   \n",
      "1  201002   137.672740    2589       2010  ...    NaN  NaN   NaN   NaN   NaN   \n",
      "2  201701  1735.108620   61576       2017  ...    NaN  NaN   NaN   NaN   NaN   \n",
      "3  202204  2134.425840    <NA>       2022  ...    NaN  NaN   NaN   NaN   NaN   \n",
      "4  200701   516.040000    <NA>       2007  ...    NaN  NaN   NaN   NaN   NaN   \n",
      "5  200712   646.600500    <NA>       2007  ...    NaN  NaN   NaN   NaN   NaN   \n",
      "6  201106   392.576449    <NA>       2011  ...    NaN  NaN   NaN   NaN   NaN   \n",
      "7  201303   561.863000    <NA>       2013  ...    NaN  NaN   NaN   NaN   NaN   \n",
      "8  200401    69.216240  111493       2004  ...    NaN  NaN   NaN   NaN   NaN   \n",
      "9  201804   663.373200    6532       2018  ...    NaN  NaN   NaN   NaN   NaN   \n",
      "\n",
      "   be  op  year  at_lag  inv  \n",
      "0 NaN NaN  <NA>     NaN  NaN  \n",
      "1 NaN NaN  <NA>     NaN  NaN  \n",
      "2 NaN NaN  <NA>     NaN  NaN  \n",
      "3 NaN NaN  <NA>     NaN  NaN  \n",
      "4 NaN NaN  <NA>     NaN  NaN  \n",
      "5 NaN NaN  <NA>     NaN  NaN  \n",
      "6 NaN NaN  <NA>     NaN  NaN  \n",
      "7 NaN NaN  <NA>     NaN  NaN  \n",
      "8 NaN NaN  <NA>     NaN  NaN  \n",
      "9 NaN NaN  <NA>     NaN  NaN  \n",
      "\n",
      "[10 rows x 33 columns]\n"
     ]
    }
   ],
   "source": [
    "print(first_10_rows)"
   ]
  },
  {
   "cell_type": "code",
   "execution_count": 13,
   "metadata": {
    "id": "lugbGEfntF5d"
   },
   "outputs": [],
   "source": [
    "# Sort by permno and date\n",
    "df = df.sort_values(by=['permno', 'date']).reset_index(drop=True)"
   ]
  },
  {
   "cell_type": "code",
   "execution_count": 14,
   "metadata": {
    "id": "IuCB0iMntiMg"
   },
   "outputs": [],
   "source": [
    "first_10_rows = df[:10]"
   ]
  },
  {
   "cell_type": "code",
   "execution_count": 15,
   "metadata": {
    "colab": {
     "base_uri": "https://localhost:8080/"
    },
    "id": "VfplBHXYtl9I",
    "outputId": "fd6ca2a9-844c-41db-9962-ccc748b6f3d8"
   },
   "outputs": [
    {
     "name": "stdout",
     "output_type": "stream",
     "text": [
      "                       date       ret     prc   shrout ticker  permno   month  \\\n",
      "0 2002-05-01 00:00:00+00:00  0.004132  12.150  8749000   BTFG   10002  200205   \n",
      "1 2002-06-01 00:00:00+00:00  0.010126  12.150  8749000   BTFG   10002  200206   \n",
      "2 2002-07-01 00:00:00+00:00 -0.094650  11.000  8749000   BTFG   10002  200207   \n",
      "3 2002-08-01 00:00:00+00:00  0.022727  11.250  8757000   BTFG   10002  200208   \n",
      "4 2002-09-01 00:00:00+00:00 -0.039646  10.689  8740000   BTFG   10002  200209   \n",
      "5 2002-10-01 00:00:00+00:00  0.009449  10.790  8740000   BTFG   10002  200210   \n",
      "6 2002-11-01 00:00:00+00:00 -0.017609  10.600  8739000   BTFG   10002  200211   \n",
      "7 2002-12-01 00:00:00+00:00  0.059025  11.100  8729000   BTFG   10002  200212   \n",
      "8 2003-01-01 00:00:00+00:00  0.063964  11.810  8729000   BTFG   10002  200301   \n",
      "9 2003-02-01 00:00:00+00:00  0.121931  13.250  8729000   BTFG   10002  200302   \n",
      "\n",
      "      mktcap  gvkey  CRSP_YEAR  ...  oancf sale  cogs  xint  xsga  be  op  \\\n",
      "0  106.30035  19049       2002  ...    NaN  NaN   NaN   NaN   NaN NaN NaN   \n",
      "1  106.30035  19049       2002  ...    NaN  NaN   NaN   NaN   NaN NaN NaN   \n",
      "2   96.23900  19049       2002  ...    NaN  NaN   NaN   NaN   NaN NaN NaN   \n",
      "3   98.51625  19049       2002  ...    NaN  NaN   NaN   NaN   NaN NaN NaN   \n",
      "4   93.42186  19049       2002  ...    NaN  NaN   NaN   NaN   NaN NaN NaN   \n",
      "5   94.30460  19049       2002  ...    NaN  NaN   NaN   NaN   NaN NaN NaN   \n",
      "6   92.63340  19049       2002  ...    NaN  NaN   NaN   NaN   NaN NaN NaN   \n",
      "7   96.89190  19049       2002  ...    NaN  NaN   NaN   NaN   NaN NaN NaN   \n",
      "8  103.08949  19049       2003  ...    NaN  NaN   NaN   NaN   NaN NaN NaN   \n",
      "9  115.65925  19049       2003  ...    NaN  NaN   NaN   NaN   NaN NaN NaN   \n",
      "\n",
      "   year  at_lag  inv  \n",
      "0  <NA>     NaN  NaN  \n",
      "1  <NA>     NaN  NaN  \n",
      "2  <NA>     NaN  NaN  \n",
      "3  <NA>     NaN  NaN  \n",
      "4  <NA>     NaN  NaN  \n",
      "5  <NA>     NaN  NaN  \n",
      "6  <NA>     NaN  NaN  \n",
      "7  <NA>     NaN  NaN  \n",
      "8  <NA>     NaN  NaN  \n",
      "9  <NA>     NaN  NaN  \n",
      "\n",
      "[10 rows x 33 columns]\n"
     ]
    }
   ],
   "source": [
    "print(first_10_rows)"
   ]
  },
  {
   "cell_type": "code",
   "execution_count": 16,
   "metadata": {
    "id": "insgVpmtzxAW"
   },
   "outputs": [],
   "source": [
    "# Calculate lagged market equity (to be used as weights)\n",
    "df['Lme'] = df.groupby('permno')['mktcap'].shift(1)"
   ]
  },
  {
   "cell_type": "code",
   "execution_count": 17,
   "metadata": {
    "id": "o97sUNphvM2M"
   },
   "outputs": [],
   "source": [
    "first_10_rows = df[:10]"
   ]
  },
  {
   "cell_type": "code",
   "execution_count": 18,
   "metadata": {
    "colab": {
     "base_uri": "https://localhost:8080/"
    },
    "id": "K1bdbzYnvPxB",
    "outputId": "5b3e8940-95e0-497c-c820-b060e13a8a97"
   },
   "outputs": [
    {
     "name": "stdout",
     "output_type": "stream",
     "text": [
      "                       date       ret     prc   shrout ticker  permno   month  \\\n",
      "0 2002-05-01 00:00:00+00:00  0.004132  12.150  8749000   BTFG   10002  200205   \n",
      "1 2002-06-01 00:00:00+00:00  0.010126  12.150  8749000   BTFG   10002  200206   \n",
      "2 2002-07-01 00:00:00+00:00 -0.094650  11.000  8749000   BTFG   10002  200207   \n",
      "3 2002-08-01 00:00:00+00:00  0.022727  11.250  8757000   BTFG   10002  200208   \n",
      "4 2002-09-01 00:00:00+00:00 -0.039646  10.689  8740000   BTFG   10002  200209   \n",
      "5 2002-10-01 00:00:00+00:00  0.009449  10.790  8740000   BTFG   10002  200210   \n",
      "6 2002-11-01 00:00:00+00:00 -0.017609  10.600  8739000   BTFG   10002  200211   \n",
      "7 2002-12-01 00:00:00+00:00  0.059025  11.100  8729000   BTFG   10002  200212   \n",
      "8 2003-01-01 00:00:00+00:00  0.063964  11.810  8729000   BTFG   10002  200301   \n",
      "9 2003-02-01 00:00:00+00:00  0.121931  13.250  8729000   BTFG   10002  200302   \n",
      "\n",
      "      mktcap  gvkey  CRSP_YEAR  ...  sale cogs  xint  xsga  be  op  year  \\\n",
      "0  106.30035  19049       2002  ...   NaN  NaN   NaN   NaN NaN NaN  <NA>   \n",
      "1  106.30035  19049       2002  ...   NaN  NaN   NaN   NaN NaN NaN  <NA>   \n",
      "2   96.23900  19049       2002  ...   NaN  NaN   NaN   NaN NaN NaN  <NA>   \n",
      "3   98.51625  19049       2002  ...   NaN  NaN   NaN   NaN NaN NaN  <NA>   \n",
      "4   93.42186  19049       2002  ...   NaN  NaN   NaN   NaN NaN NaN  <NA>   \n",
      "5   94.30460  19049       2002  ...   NaN  NaN   NaN   NaN NaN NaN  <NA>   \n",
      "6   92.63340  19049       2002  ...   NaN  NaN   NaN   NaN NaN NaN  <NA>   \n",
      "7   96.89190  19049       2002  ...   NaN  NaN   NaN   NaN NaN NaN  <NA>   \n",
      "8  103.08949  19049       2003  ...   NaN  NaN   NaN   NaN NaN NaN  <NA>   \n",
      "9  115.65925  19049       2003  ...   NaN  NaN   NaN   NaN NaN NaN  <NA>   \n",
      "\n",
      "   at_lag  inv        Lme  \n",
      "0     NaN  NaN        NaN  \n",
      "1     NaN  NaN  106.30035  \n",
      "2     NaN  NaN  106.30035  \n",
      "3     NaN  NaN   96.23900  \n",
      "4     NaN  NaN   98.51625  \n",
      "5     NaN  NaN   93.42186  \n",
      "6     NaN  NaN   94.30460  \n",
      "7     NaN  NaN   92.63340  \n",
      "8     NaN  NaN   96.89190  \n",
      "9     NaN  NaN  103.08949  \n",
      "\n",
      "[10 rows x 34 columns]\n"
     ]
    }
   ],
   "source": [
    "print(first_10_rows)"
   ]
  },
  {
   "cell_type": "code",
   "execution_count": 19,
   "metadata": {
    "id": "Dkn1eknJvHxp"
   },
   "outputs": [],
   "source": [
    "# Drop rows with missing or zero lagged market equity\n",
    "df = df.dropna(subset=['Lme'])\n",
    "df = df[df['Lme'] > 0]"
   ]
  },
  {
   "cell_type": "code",
   "execution_count": 20,
   "metadata": {
    "colab": {
     "base_uri": "https://localhost:8080/"
    },
    "id": "9-3VBir8vZo9",
    "outputId": "94ec8e92-c7dd-4f5e-e737-cd25041bbb6e"
   },
   "outputs": [
    {
     "name": "stderr",
     "output_type": "stream",
     "text": [
      "<ipython-input-20-26c6521bf239>:2: DeprecationWarning: DataFrameGroupBy.apply operated on the grouping columns. This behavior is deprecated, and in a future version of pandas the grouping columns will be excluded from the operation. Either pass `include_groups=False` to exclude the groupings or explicitly select the grouping columns after groupby to silence this warning.\n",
      "  vwret = df.groupby('date').apply(lambda x: np.sum(x['Lme'] / x['Lme'].sum() * x['ret']))\n"
     ]
    }
   ],
   "source": [
    "# Value-weighted returns\n",
    "vwret = df.groupby('date').apply(lambda x: np.sum(x['Lme'] / x['Lme'].sum() * x['ret']))\n",
    "vwret = vwret.to_frame(name='vwret')"
   ]
  },
  {
   "cell_type": "code",
   "execution_count": 21,
   "metadata": {
    "id": "GEC5uBa5vc9Z"
   },
   "outputs": [],
   "source": [
    "# Equal-weighted returns\n",
    "ewret = df.groupby('date')['ret'].mean()\n",
    "ewret = ewret.to_frame(name='ewret')"
   ]
  },
  {
   "cell_type": "code",
   "execution_count": null,
   "metadata": {
    "id": "3IfWLFU0vg-X"
   },
   "outputs": [],
   "source": [
    "# Aggregate market equity\n",
    "mktcap = df.groupby('date')['me'].sum().to_frame().rename(columns={'me': 'mktcap'})"
   ]
  },
  {
   "cell_type": "code",
   "execution_count": 27,
   "metadata": {
    "id": "n_ovhY032jA0"
   },
   "outputs": [],
   "source": [
    "import matplotlib.pyplot as plt"
   ]
  },
  {
   "cell_type": "code",
   "execution_count": 28,
   "metadata": {
    "colab": {
     "base_uri": "https://localhost:8080/",
     "height": 1000
    },
    "id": "OHYgQkm_0FYM",
    "outputId": "71ee1d01-12d3-4358-db83-ab8f12ff75b6"
   },
   "outputs": [
    {
     "name": "stdout",
     "output_type": "stream",
     "text": [
      "Processing data...\n",
      "Calculating size factor...\n",
      "Calculating BE/ME factor...\n",
      "Calculating operating profitability factor...\n",
      "Calculating investment factor...\n",
      "Combining classifications...\n",
      "Calculating portfolio returns...\n"
     ]
    },
    {
     "name": "stderr",
     "output_type": "stream",
     "text": [
      "<ipython-input-28-09c9158ef236>:121: RuntimeWarning: invalid value encountered in scalar divide\n",
      "  .apply(lambda x: np.sum(x['ret'] * x['Lme']) / x['Lme'].sum())\n",
      "<ipython-input-28-09c9158ef236>:121: DeprecationWarning: DataFrameGroupBy.apply operated on the grouping columns. This behavior is deprecated, and in a future version of pandas the grouping columns will be excluded from the operation. Either pass `include_groups=False` to exclude the groupings or explicitly select the grouping columns after groupby to silence this warning.\n",
      "  .apply(lambda x: np.sum(x['ret'] * x['Lme']) / x['Lme'].sum())\n"
     ]
    },
    {
     "name": "stdout",
     "output_type": "stream",
     "text": [
      "Calculating final factors...\n"
     ]
    },
    {
     "name": "stderr",
     "output_type": "stream",
     "text": [
      "<ipython-input-28-09c9158ef236>:189: DeprecationWarning: DataFrameGroupBy.apply operated on the grouping columns. This behavior is deprecated, and in a future version of pandas the grouping columns will be excluded from the operation. Either pass `include_groups=False` to exclude the groupings or explicitly select the grouping columns after groupby to silence this warning.\n",
      "  ff5_factors = portfolio_returns.groupby('date').apply(calculate_ff5_factors)\n",
      "<ipython-input-28-09c9158ef236>:192: RuntimeWarning: invalid value encountered in scalar divide\n",
      "  vwret = df.groupby('date').apply(lambda x: np.sum(x['ret'] * x['Lme']) / x['Lme'].sum())\n",
      "<ipython-input-28-09c9158ef236>:192: DeprecationWarning: DataFrameGroupBy.apply operated on the grouping columns. This behavior is deprecated, and in a future version of pandas the grouping columns will be excluded from the operation. Either pass `include_groups=False` to exclude the groupings or explicitly select the grouping columns after groupby to silence this warning.\n",
      "  vwret = df.groupby('date').apply(lambda x: np.sum(x['ret'] * x['Lme']) / x['Lme'].sum())\n"
     ]
    },
    {
     "name": "stdout",
     "output_type": "stream",
     "text": [
      "\n",
      "Fama-French 5 Factor Summary Statistics:\n",
      "              SMB         HML         RMW         CMA         MKT\n",
      "count  310.000000  310.000000  310.000000  310.000000  310.000000\n",
      "mean    -0.001540   -0.003728    0.000690   -0.002115    0.007610\n",
      "std      0.029358    0.028481    0.033293    0.020633    0.045618\n",
      "min     -0.149992   -0.164617   -0.162935   -0.151433   -0.171368\n",
      "25%     -0.014176   -0.018973   -0.014490   -0.009937   -0.017871\n",
      "50%     -0.003457   -0.001816    0.000577   -0.001904    0.014044\n",
      "75%      0.012190    0.010389    0.016705    0.006589    0.036663\n",
      "max      0.149597    0.080252    0.134999    0.083430    0.140166\n"
     ]
    },
    {
     "data": {
      "text/plain": [
       "<Figure size 1500x1000 with 0 Axes>"
      ]
     },
     "metadata": {},
     "output_type": "display_data"
    },
    {
     "data": {
      "image/png": "[encoded data removed]",
      "text/plain": [
       "<Figure size 640x480 with 1 Axes>"
      ]
     },
     "metadata": {},
     "output_type": "display_data"
    },
    {
     "name": "stdout",
     "output_type": "stream",
     "text": [
      "\n",
      "Factors saved to 'ff5_factors.csv'\n",
      "\n",
      "Factor Correlations:\n",
      "          SMB       HML       RMW       CMA       MKT\n",
      "SMB  1.000000 -0.192890 -0.437843 -0.697347  0.304291\n",
      "HML -0.192890  1.000000  0.642573  0.127367  0.198437\n",
      "RMW -0.437843  0.642573  1.000000  0.520310  0.003910\n",
      "CMA -0.697347  0.127367  0.520310  1.000000 -0.220374\n",
      "MKT  0.304291  0.198437  0.003910 -0.220374  1.000000\n"
     ]
    }
   ],
   "source": [
    "def calculate_size_factor(data):\n",
    "    \"\"\"Calculate size factor using June market caps\"\"\"\n",
    "    size = (\n",
    "        data[data['date'].dt.month == 6]\n",
    "        .assign(\n",
    "            year=lambda x: x['date'].dt.year,\n",
    "            size=lambda x: x['mktcap'],\n",
    "            sorting_date=lambda x: x['date'] + pd.DateOffset(months=1)\n",
    "        )\n",
    "        [['permno', 'year', 'size', 'sorting_date']]\n",
    "    )\n",
    "\n",
    "    # Calculate median breakpoint using all stocks\n",
    "    size_breakpoints = (\n",
    "        size.groupby('year')['size']\n",
    "        .median()\n",
    "        .to_frame('size_breakpoint')\n",
    "    )\n",
    "\n",
    "    size = size.merge(size_breakpoints, left_on='year', right_index=True)\n",
    "    size['size_group'] = np.where(size['size'] <= size['size_breakpoint'], 'S', 'B')\n",
    "\n",
    "    return size[['permno', 'year', 'size_group', 'sorting_date']]\n",
    "\n",
    "def calculate_beme_factor(data):\n",
    "    \"\"\"Calculate book-to-market factor\"\"\"\n",
    "    # Calculate BE/ME using December market cap and book equity\n",
    "    beme = (\n",
    "        data[data['date'].dt.month == 12]\n",
    "        .assign(\n",
    "            year=lambda x: x['date'].dt.year,\n",
    "            beme=lambda x: x['be'] / x['mktcap']\n",
    "        )\n",
    "        .dropna(subset=['beme'])\n",
    "    )\n",
    "\n",
    "    # Calculate breakpoints (30th and 70th percentiles)\n",
    "    breakpoints = (\n",
    "        beme.groupby('year')['beme']\n",
    "        .quantile([0.3, 0.7])\n",
    "        .unstack()\n",
    "        .rename(columns={0.3: 'beme_low', 0.7: 'beme_high'})\n",
    "    )\n",
    "\n",
    "    beme = beme.merge(breakpoints, left_on='year', right_index=True)\n",
    "\n",
    "    beme['beme_group'] = np.where(\n",
    "        beme['beme'] <= beme['beme_low'], 'L',\n",
    "        np.where(beme['beme'] > beme['beme_high'], 'H', 'M')\n",
    "    )\n",
    "\n",
    "    return beme[['permno', 'year', 'beme_group']]\n",
    "\n",
    "def calculate_op_factor(data):\n",
    "    \"\"\"Calculate operating profitability factor\"\"\"\n",
    "    op = (\n",
    "        data[data['date'].dt.month == 12]\n",
    "        .assign(\n",
    "            year=lambda x: x['date'].dt.year,\n",
    "            op_ratio=lambda x: x['op'] / x['be']\n",
    "        )\n",
    "        .dropna(subset=['op_ratio'])\n",
    "    )\n",
    "\n",
    "    # Calculate breakpoints\n",
    "    breakpoints = (\n",
    "        op.groupby('year')['op_ratio']\n",
    "        .quantile([0.3, 0.7])\n",
    "        .unstack()\n",
    "        .rename(columns={0.3: 'op_low', 0.7: 'op_high'})\n",
    "    )\n",
    "\n",
    "    op = op.merge(breakpoints, left_on='year', right_index=True)\n",
    "\n",
    "    op['op_group'] = np.where(\n",
    "        op['op_ratio'] <= op['op_low'], 'W',\n",
    "        np.where(op['op_ratio'] > op['op_high'], 'R', 'M')\n",
    "    )\n",
    "\n",
    "    return op[['permno', 'year', 'op_group']]\n",
    "\n",
    "def calculate_inv_factor(data):\n",
    "    \"\"\"Calculate investment factor\"\"\"\n",
    "    inv = (\n",
    "        data[data['date'].dt.month == 12]\n",
    "        .assign(\n",
    "            year=lambda x: x['date'].dt.year,\n",
    "            inv_ratio=lambda x: x['inv'] / x['at_lag']\n",
    "        )\n",
    "        .dropna(subset=['inv_ratio'])\n",
    "    )\n",
    "\n",
    "    # Calculate breakpoints\n",
    "    breakpoints = (\n",
    "        inv.groupby('year')['inv_ratio']\n",
    "        .quantile([0.3, 0.7])\n",
    "        .unstack()\n",
    "        .rename(columns={0.3: 'inv_low', 0.7: 'inv_high'})\n",
    "    )\n",
    "\n",
    "    inv = inv.merge(breakpoints, left_on='year', right_index=True)\n",
    "\n",
    "    inv['inv_group'] = np.where(\n",
    "        inv['inv_ratio'] <= inv['inv_low'], 'C',\n",
    "        np.where(inv['inv_ratio'] > inv['inv_high'], 'A', 'M')\n",
    "    )\n",
    "\n",
    "    return inv[['permno', 'year', 'inv_group']]\n",
    "\n",
    "def calculate_portfolio_returns(data, classifications):\n",
    "    \"\"\"Calculate value-weighted portfolio returns\"\"\"\n",
    "    portfolio_data = (\n",
    "        data[['date', 'permno', 'ret', 'Lme']]\n",
    "        .merge(classifications, on=['permno'], how='left')\n",
    "        .dropna(subset=['size_group', 'beme_group', 'op_group', 'inv_group'])\n",
    "    )\n",
    "\n",
    "    portfolio_returns = (\n",
    "        portfolio_data\n",
    "        .groupby(['date', 'size_group', 'beme_group', 'op_group', 'inv_group'])\n",
    "        .apply(lambda x: np.sum(x['ret'] * x['Lme']) / x['Lme'].sum())\n",
    "        .reset_index()\n",
    "        .rename(columns={0: 'ret'})\n",
    "    )\n",
    "\n",
    "    return portfolio_returns\n",
    "\n",
    "# Main execution\n",
    "print(\"Processing data...\")\n",
    "\n",
    "# Ensure data types\n",
    "df['date'] = pd.to_datetime(df['date'])\n",
    "df['Lme'] = df.groupby('permno')['mktcap'].shift(1)\n",
    "\n",
    "print(\"Calculating size factor...\")\n",
    "size = calculate_size_factor(df)\n",
    "\n",
    "print(\"Calculating BE/ME factor...\")\n",
    "beme = calculate_beme_factor(df)\n",
    "\n",
    "print(\"Calculating operating profitability factor...\")\n",
    "op = calculate_op_factor(df)\n",
    "\n",
    "print(\"Calculating investment factor...\")\n",
    "inv = calculate_inv_factor(df)\n",
    "\n",
    "print(\"Combining classifications...\")\n",
    "# Combine classifications\n",
    "classifications = (\n",
    "    size.merge(beme, on=['permno', 'year'], how='outer')\n",
    "    .merge(op, on=['permno', 'year'], how='outer')\n",
    "    .merge(inv, on=['permno', 'year'], how='outer')\n",
    ")\n",
    "\n",
    "print(\"Calculating portfolio returns...\")\n",
    "portfolio_returns = calculate_portfolio_returns(df, classifications)\n",
    "\n",
    "def calculate_ff5_factors(returns):\n",
    "    \"\"\"Calculate all five Fama-French factors\"\"\"\n",
    "    # SMB (Small Minus Big)\n",
    "    small = returns[returns['size_group'] == 'S']['ret'].mean()\n",
    "    big = returns[returns['size_group'] == 'B']['ret'].mean()\n",
    "    smb = small - big\n",
    "\n",
    "    # HML (High Minus Low)\n",
    "    high = returns[returns['beme_group'] == 'H']['ret'].mean()\n",
    "    low = returns[returns['beme_group'] == 'L']['ret'].mean()\n",
    "    hml = high - low\n",
    "\n",
    "    # RMW (Robust Minus Weak)\n",
    "    robust = returns[returns['op_group'] == 'R']['ret'].mean()\n",
    "    weak = returns[returns['op_group'] == 'W']['ret'].mean()\n",
    "    rmw = robust - weak\n",
    "\n",
    "    # CMA (Conservative Minus Aggressive)\n",
    "    conserv = returns[returns['inv_group'] == 'C']['ret'].mean()\n",
    "    aggr = returns[returns['inv_group'] == 'A']['ret'].mean()\n",
    "    cma = conserv - aggr\n",
    "\n",
    "    return pd.Series({\n",
    "        'SMB': smb,\n",
    "        'HML': hml,\n",
    "        'RMW': rmw,\n",
    "        'CMA': cma\n",
    "    })\n",
    "\n",
    "print(\"Calculating final factors...\")\n",
    "# Calculate factors by date\n",
    "ff5_factors = portfolio_returns.groupby('date').apply(calculate_ff5_factors)\n",
    "\n",
    "# Add market excess return\n",
    "vwret = df.groupby('date').apply(lambda x: np.sum(x['ret'] * x['Lme']) / x['Lme'].sum())\n",
    "ff5_factors['MKT'] = vwret\n",
    "\n",
    "# Display results\n",
    "print(\"\\nFama-French 5 Factor Summary Statistics:\")\n",
    "print(ff5_factors.describe())\n",
    "\n",
    "# Create visualizations\n",
    "plt.figure(figsize=(15, 10))\n",
    "ff5_factors.cumsum().plot()\n",
    "plt.title('Cumulative Fama-French 5 Factor Returns')\n",
    "plt.xlabel('Date')\n",
    "plt.ylabel('Cumulative Return')\n",
    "plt.legend()\n",
    "plt.grid(True)\n",
    "plt.tight_layout()\n",
    "plt.show()\n",
    "\n",
    "# Save results\n",
    "ff5_factors.to_csv('ff5_factors.csv')\n",
    "print(\"\\nFactors saved to 'ff5_factors.csv'\")\n",
    "\n",
    "# Calculate and display factor correlations\n",
    "print(\"\\nFactor Correlations:\")\n",
    "print(ff5_factors.corr())"
   ]
  }
 ],
 "metadata": {
  "colab": {
   "provenance": []
  },
  "kernelspec": {
   "display_name": "Python 3",
   "name": "python3"
  },
  "language_info": {
   "name": "python"
  }
 },
 "nbformat": 4,
 "nbformat_minor": 0
}
