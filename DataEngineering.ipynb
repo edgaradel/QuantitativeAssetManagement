{
  "nbformat": 4,
  "nbformat_minor": 0,
  "metadata": {
    "colab": {
      "provenance": []
    },
    "kernelspec": {
      "name": "python3",
      "display_name": "Python 3"
    },
    "language_info": {
      "name": "python"
    }
  },
  "cells": [
    {
      "cell_type": "markdown",
      "source": [
        "What happens when you abuse AutoDrive"
      ],
      "metadata": {
        "id": "bR1c1-fRZyJa"
      }
    },
    {
      "cell_type": "markdown",
      "source": [
        "Once, talking with a dear friend, he mentioned why Elon Musk has been successful, and he mentioned it may be because he worked solving engineering problems. ChatGPT, Tesla AutoPilot, and Waymo all seem to be solutions for different problems. But before we jump to conclusions and before we believe, as some companies mention, that AI is building 20 or 30% of their software, let's review a case where that is not necessarily a good approach.\n",
        "\n",
        "To build any numerical analysis you require good and reliable data. And sadly that is where the problems start.\n",
        "\n",
        "By relying on \"guide dogs\", we decided to give them the keys to the car without thinking he may crash it."
      ],
      "metadata": {
        "id": "xlz9k5nwaDs_"
      }
    },
    {
      "cell_type": "markdown",
      "source": [
        " As"
      ],
      "metadata": {
        "id": "Obkyvy2DdXYs"
      }
    },
    {
      "cell_type": "code",
      "source": [],
      "metadata": {
        "id": "detztGDIdWsi"
      },
      "execution_count": null,
      "outputs": []
    },
    {
      "cell_type": "code",
      "execution_count": null,
      "metadata": {
        "id": "R4-Oh8RiZuke"
      },
      "outputs": [],
      "source": []
    }
  ]
}