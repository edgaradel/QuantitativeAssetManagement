{
 "cells": [
  {
   "cell_type": "markdown",
   "metadata": {},
   "source": [
    "# Risk Parity"
   ]
  },
  {
   "cell_type": "markdown",
   "metadata": {
    "id": "aGlDfb45_NBk"
   },
   "source": [
    "# Install packages missing"
   ]
  },
  {
   "cell_type": "code",
   "execution_count": null,
   "metadata": {
    "colab": {
     "base_uri": "https://localhost:8080/"
    },
    "id": "AR7WyGRA93FJ",
    "outputId": "836eee0d-906e-4f35-f1ec-98a3f8b5df08"
   },
   "outputs": [
    {
     "name": "stdout",
     "output_type": "stream",
     "text": [
      "Requirement already satisfied: wrds in /usr/local/lib/python3.10/dist-packages (3.2.0)\n",
      "Requirement already satisfied: numpy<1.27,>=1.26 in /usr/local/lib/python3.10/dist-packages (from wrds) (1.26.4)\n",
      "Requirement already satisfied: packaging<23.3 in /usr/local/lib/python3.10/dist-packages (from wrds) (23.2)\n",
      "Requirement already satisfied: pandas<2.3,>=2.2 in /usr/local/lib/python3.10/dist-packages (from wrds) (2.2.2)\n",
      "Requirement already satisfied: psycopg2-binary<2.10,>=2.9 in /usr/local/lib/python3.10/dist-packages (from wrds) (2.9.9)\n",
      "Requirement already satisfied: scipy<1.13,>=1.12 in /usr/local/lib/python3.10/dist-packages (from wrds) (1.12.0)\n",
      "Requirement already satisfied: sqlalchemy<2.1,>=2 in /usr/local/lib/python3.10/dist-packages (from wrds) (2.0.31)\n",
      "Requirement already satisfied: python-dateutil>=2.8.2 in /usr/local/lib/python3.10/dist-packages (from pandas<2.3,>=2.2->wrds) (2.8.2)\n",
      "Requirement already satisfied: pytz>=2020.1 in /usr/local/lib/python3.10/dist-packages (from pandas<2.3,>=2.2->wrds) (2024.1)\n",
      "Requirement already satisfied: tzdata>=2022.7 in /usr/local/lib/python3.10/dist-packages (from pandas<2.3,>=2.2->wrds) (2024.1)\n",
      "Requirement already satisfied: typing-extensions>=4.6.0 in /usr/local/lib/python3.10/dist-packages (from sqlalchemy<2.1,>=2->wrds) (4.12.2)\n",
      "Requirement already satisfied: greenlet!=0.4.17 in /usr/local/lib/python3.10/dist-packages (from sqlalchemy<2.1,>=2->wrds) (3.0.3)\n",
      "Requirement already satisfied: six>=1.5 in /usr/local/lib/python3.10/dist-packages (from python-dateutil>=2.8.2->pandas<2.3,>=2.2->wrds) (1.16.0)\n"
     ]
    }
   ],
   "source": [
    "pip install wrds"
   ]
  },
  {
   "cell_type": "markdown",
   "metadata": {
    "id": "_t-c2KfO_TKm"
   },
   "source": [
    "# Import packages"
   ]
  },
  {
   "cell_type": "code",
   "execution_count": null,
   "metadata": {
    "id": "7eLrEBrI0AE9"
   },
   "outputs": [],
   "source": [
    "import os\n",
    "os.getcwd()\n",
    "import pandas as pd\n",
    "import numpy as np\n",
    "import datetime as dt\n",
    "import psycopg2\n",
    "import wrds\n",
    "from random import *\n",
    "from dateutil.relativedelta import *\n",
    "from pandas.tseries.offsets import *\n",
    "import math\n",
    "import matplotlib.pyplot as plt\n",
    "import requests\n",
    "import pandas_datareader\n",
    "from datetime import timedelta\n",
    "from scipy.stats import norm\n",
    "import scipy.optimize as optimize\n",
    "import sympy as sym\n",
    "import seaborn as sns\n",
    "import datetime as dt\n",
    "import yfinance as yf\n",
    "from datetime import datetime\n",
    "\n",
    "from pandas.tseries.offsets import *\n",
    "\n",
    "# Settings: shares code, exchange codes to use, sample period, folder for pictures/temporary data/outout\n",
    "use_NYSE_brkpts = False"
   ]
  },
  {
   "cell_type": "code",
   "execution_count": null,
   "metadata": {
    "id": "5NkcUIgPsey6"
   },
   "outputs": [],
   "source": [
    "import os\n",
    "os.getcwd()\n",
    "import pandas as pd\n",
    "import numpy as np\n",
    "import datetime as dt\n",
    "import psycopg2\n",
    "import wrds\n",
    "from random import *\n",
    "from dateutil.relativedelta import *\n",
    "from pandas.tseries.offsets import *\n",
    "import math\n",
    "import matplotlib.pyplot as plt\n",
    "import requests\n",
    "import pandas_datareader\n",
    "from datetime import timedelta\n",
    "from scipy.stats import norm\n",
    "import scipy.optimize as optimize\n",
    "import sympy as sym\n",
    "import seaborn as sns\n",
    "import datetime as dt\n",
    "import yfinance as yf\n",
    "from datetime import datetime\n",
    "\n",
    "from pandas.tseries.offsets import *\n",
    "\n",
    "# Settings: shares code, exchange codes to use, sample period, folder for pictures/temporary data/outout\n",
    "use_NYSE_brkpts = False"
   ]
  },
  {
   "cell_type": "markdown",
   "metadata": {
    "id": "mqLo8yNi_Itf"
   },
   "source": [
    "# API Connection"
   ]
  },
  {
   "cell_type": "code",
   "execution_count": null,
   "metadata": {
    "colab": {
     "base_uri": "https://localhost:8080/"
    },
    "id": "KsW0XjPZmYGA",
    "outputId": "a34bb154-443b-4e49-bcda-93bc5dfea058"
   },
   "outputs": [
    {
     "name": "stdout",
     "output_type": "stream",
     "text": [
      "Enter your WRDS username [mjgarciagomez]:mjgarciagomez\n",
      "Enter your password:··········\n",
      "WRDS recommends setting up a .pgpass file.\n",
      "Create .pgpass file now [y/n]?: y\n",
      "Created .pgpass file successfully.\n",
      "You can create this file yourself at any time with the create_pgpass_file() function.\n",
      "Loading library list...\n",
      "Done\n",
      "Loading library list...\n",
      "Done\n"
     ]
    },
    {
     "name": "stderr",
     "output_type": "stream",
     "text": [
      "<ipython-input-4-171d82016041>:18: FutureWarning: errors='ignore' is deprecated and will raise in a future version. Use to_datetime without passing `errors` and catch exceptions explicitly instead\n",
      "  crsp_bonds_raw['mcaldt'] = pd.to_datetime(crsp_bonds_raw['mcaldt'],format='%Y-%m-%d',errors='ignore')\n"
     ]
    }
   ],
   "source": [
    "# API Connection\n",
    "load_data = Trues\n",
    "wrds_id = 'username'\n",
    "conn = wrds.Connection(wrds_username=wrds_id)\n",
    "#conn.create_pqpass_file()\n",
    "conn.close()\n",
    "\n",
    "conn = wrds.Connection(wrds_username=wrds_id)\n",
    "# Load CRSP returns and change variables format\n",
    "crsp_bonds_raw = conn.raw_sql(\"\"\"\n",
    "                        select kycrspid, mcaldt, tmretnua, tmtotout\n",
    "                        from crspq.tfz_mth\n",
    "                        \"\"\")\n",
    "conn.close()\n",
    "\n",
    "#                        where a.date between '01/01/1926' and '12/21/2022'\n",
    "\n",
    "crsp_bonds_raw['mcaldt'] = pd.to_datetime(crsp_bonds_raw['mcaldt'],format='%Y-%m-%d',errors='ignore')"
   ]
  },
  {
   "cell_type": "markdown",
   "metadata": {
    "id": "Mb4OqSXS_X1I"
   },
   "source": [
    "# Importing Bonds information from WRDS"
   ]
  },
  {
   "cell_type": "code",
   "execution_count": null,
   "metadata": {
    "colab": {
     "base_uri": "https://localhost:8080/"
    },
    "id": "AQxdhPLc-lkD",
    "outputId": "bf2f04b5-b292-4dae-dd0b-9d27a1bbafc1"
   },
   "outputs": [
    {
     "name": "stdout",
     "output_type": "stream",
     "text": [
      "Loading library list...\n",
      "Done\n"
     ]
    },
    {
     "name": "stderr",
     "output_type": "stream",
     "text": [
      "<ipython-input-5-ca21108344a5>:12: FutureWarning: errors='ignore' is deprecated and will raise in a future version. Use to_datetime without passing `errors` and catch exceptions explicitly instead\n",
      "  crsp_bonds_raw['mcaldt'] = pd.to_datetime(crsp_bonds_raw['mcaldt'],format='%Y-%m-%d',errors='ignore')\n"
     ]
    }
   ],
   "source": [
    "# Connection Bonds\n",
    "conn = wrds.Connection(wrds_username=wrds_id)\n",
    "# Load CRSP returns and change variables format\n",
    "crsp_bonds_raw = conn.raw_sql(\"\"\"\n",
    "                        select kycrspid, mcaldt, tmretnua, tmtotout\n",
    "                        from crspq.tfz_mth\n",
    "                        \"\"\")\n",
    "conn.close()\n",
    "\n",
    "#                        where a.date between '01/01/1926' and '12/21/2022'\n",
    "\n",
    "crsp_bonds_raw['mcaldt'] = pd.to_datetime(crsp_bonds_raw['mcaldt'],format='%Y-%m-%d',errors='ignore')"
   ]
  },
  {
   "cell_type": "markdown",
   "metadata": {
    "id": "06Zf3lik_ehO"
   },
   "source": [
    "# Saving Pickle"
   ]
  },
  {
   "cell_type": "code",
   "execution_count": null,
   "metadata": {
    "id": "on9PwwZp-mtC"
   },
   "outputs": [],
   "source": [
    "#save pickle\n",
    "crsp_bonds_raw.to_pickle('crsp_bonds.pkl')"
   ]
  },
  {
   "cell_type": "code",
   "execution_count": null,
   "metadata": {
    "id": "IYBkEgNs-05j"
   },
   "outputs": [],
   "source": [
    "crsp_bonds = crsp_bonds_raw.copy()\n",
    "\n",
    "crsp_bonds['Year']  = pd.DatetimeIndex(crsp_bonds.mcaldt).year\n",
    "crsp_bonds['Month'] = pd.DatetimeIndex(crsp_bonds.mcaldt).month\n",
    "crsp_bonds          = crsp_bonds.sort_values(by=['mcaldt'],ascending = True)\n",
    "\n",
    "#crsp_bonds = crsp_bonds.dropna()"
   ]
  },
  {
   "cell_type": "code",
   "execution_count": null,
   "metadata": {
    "id": "5Tdz5if7-_1l"
   },
   "outputs": [],
   "source": [
    "crsp_bonds['me']    = crsp_bonds[\"tmtotout\"]\n",
    "crsp_bonds['lme']    = crsp_bonds.groupby('kycrspid')[\"me\"].shift(1)"
   ]
  },
  {
   "cell_type": "code",
   "execution_count": null,
   "metadata": {
    "id": "uQ6Qia4q_BpW"
   },
   "outputs": [],
   "source": [
    "ewret = crsp_bonds.groupby(['mcaldt'])['tmretnua'].mean()\n",
    "ewret = ewret.to_frame()\n",
    "ewret.columns=['Bond_Ew_Ret']"
   ]
  },
  {
   "cell_type": "code",
   "execution_count": null,
   "metadata": {
    "id": "XNVpp1sK_FHb"
   },
   "outputs": [],
   "source": [
    "vwret = crsp_bonds.groupby(['mcaldt'])[['lme','tmretnua']].apply(lambda x: np.sum(x['lme']/x['lme'].sum()*x['tmretnua'])) # Use a list to select multiple columns\n",
    "vwret = vwret.to_frame()\n",
    "vwret.columns=['Bond_Vw_Ret']"
   ]
  },
  {
   "cell_type": "code",
   "execution_count": null,
   "metadata": {
    "id": "cqVhBSya_ImZ"
   },
   "outputs": [],
   "source": [
    "total_me = crsp_bonds.groupby(['mcaldt'])['me'].sum().to_frame().rename(columns = {'me' : 'total_me'})\n",
    "Bond_lag_MV = total_me.shift(1).rename(columns = {'total_me' : 'Bond_lag_MV'})"
   ]
  },
  {
   "cell_type": "code",
   "execution_count": null,
   "metadata": {
    "id": "491oRHva_O_x"
   },
   "outputs": [],
   "source": [
    "outputQ1 = Bond_lag_MV\n",
    "outputQ1 = pd.merge(outputQ1 , ewret,how = 'outer', left_index=True, right_index=True )\n",
    "outputQ1 = pd.merge(outputQ1 , vwret,how = 'outer', left_index=True, right_index=True )\n",
    "outputQ1 = outputQ1.reset_index()\n",
    "outputQ1.insert (0, \"Month\", pd.DatetimeIndex(outputQ1.mcaldt).month)\n",
    "outputQ1.insert (0, \"Year\", pd.DatetimeIndex(outputQ1.mcaldt).year)"
   ]
  },
  {
   "cell_type": "code",
   "execution_count": null,
   "metadata": {
    "id": "Uo43xtNI_Spm"
   },
   "outputs": [],
   "source": [
    "outputQ1_date = outputQ1.copy()\n",
    "outputQ1_date = outputQ1_date.rename(columns = {'mcaldt': 'date'})\n",
    "outputQ1_date['date_MY'] = outputQ1_date['date'].dt.to_period('M')"
   ]
  },
  {
   "cell_type": "code",
   "execution_count": null,
   "metadata": {
    "colab": {
     "base_uri": "https://localhost:8080/"
    },
    "id": "kBHf_hNX_WrF",
    "outputId": "aed5ba10-bdfa-4441-b64e-fc2dcc5a1d0c"
   },
   "outputs": [
    {
     "name": "stdout",
     "output_type": "stream",
     "text": [
      "      Year  Month  Bond_lag_MV  Bond_Ew_Ret  Bond_Vw_Ret\n",
      "1     1926      1      19502.0     0.005101     0.006829\n",
      "2     1926      2      19502.0     0.003621     0.003844\n",
      "3     1926      3      19500.0     0.003812     0.003588\n",
      "4     1926      4      19231.0     0.004014     0.006486\n",
      "5     1926      5      19227.0     0.002146     0.002629\n",
      "...    ...    ...          ...          ...          ...\n",
      "1175  2023     11   25478472.0     0.032521     0.030095\n",
      "1176  2023     12   25720925.0     0.027771     0.024899\n",
      "1177  2024      1   25671379.0     0.000790     0.000688\n",
      "1178  2024      2   25979221.0    -0.011430    -0.010299\n",
      "1179  2024      3   26259737.0     0.005873     0.005391\n",
      "\n",
      "[1179 rows x 5 columns]\n",
      "Year             int32\n",
      "Month            int32\n",
      "Bond_lag_MV    float64\n",
      "Bond_Ew_Ret    float64\n",
      "Bond_Vw_Ret    float64\n",
      "dtype: object\n"
     ]
    }
   ],
   "source": [
    "outputQ1 = outputQ1.drop(columns = 'mcaldt')\n",
    "outputQ1 = outputQ1.iloc[1:len(outputQ1),:] #drop 1925 december, which has NaN values\n",
    "outputQ1_date = outputQ1_date.iloc[1:len(outputQ1_date),:]"
   ]
  },
  {
   "cell_type": "code",
   "execution_count": null,
   "metadata": {
    "colab": {
     "base_uri": "https://localhost:8080/"
    },
    "id": "uY0jaWaoAZvH",
    "outputId": "8aa059b6-ef0c-4581-f4be-316543746234"
   },
   "outputs": [
    {
     "name": "stdout",
     "output_type": "stream",
     "text": [
      "Loading library list...\n",
      "Done\n"
     ]
    }
   ],
   "source": [
    "print(outputQ1)\n",
    "print(outputQ1.dtypes)"
   ]
  },
  {
   "cell_type": "code",
   "execution_count": null,
   "metadata": {
    "colab": {
     "base_uri": "https://localhost:8080/"
    },
    "id": "S9rPU_UMz4LX",
    "outputId": "05818e5a-9fcd-4385-b150-2c53b26ade40"
   },
   "outputs": [
    {
     "name": "stdout",
     "output_type": "stream",
     "text": [
      "Loading library list...\n",
      "Done\n"
     ]
    }
   ],
   "source": [
    "# Load T-bill\n",
    "ds_id = 'edgaradel'\n",
    "conn = wrds.Connection(wrds_username=wrds_id)\n",
    "#conn.create_pqpass_file()\n",
    "conn.close()"
   ]
  },
  {
   "cell_type": "code",
   "execution_count": null,
   "metadata": {
    "colab": {
     "base_uri": "https://localhost:8080/"
    },
    "id": "iWmeFauWz9tb",
    "outputId": "6c2c17dc-27f4-4003-95aa-67731a5e8e9a"
   },
   "outputs": [
    {
     "name": "stdout",
     "output_type": "stream",
     "text": [
      "Loading library list...\n",
      "Done\n",
      "Loading library list...\n",
      "Done\n"
     ]
    },
    {
     "name": "stderr",
     "output_type": "stream",
     "text": [
      "<ipython-input-20-406717a1e95e>:24: FutureWarning: errors='ignore' is deprecated and will raise in a future version. Use to_datetime without passing `errors` and catch exceptions explicitly instead\n",
      "  crsp_raw['date'] = pd.to_datetime(crsp_raw['date'],format='%Y-%m-%d',errors='ignore')\n"
     ]
    }
   ],
   "source": [
    "conn = wrds.Connection(wrds_username=wrds_id)\n",
    "\n",
    "rf = conn.raw_sql(\"\"\"\n",
    "                      select caldt, t30ret, t90ret\n",
    "                      from crspq.mcti\n",
    "                      \"\"\")\n",
    "rf['caldt']   = pd.DataFrame(rf[['caldt']].values.astype('datetime64[ns]')) + MonthEnd(0)\n",
    "rf = rf.rename(columns={\"caldt\":\"date\",\"t30ret\":\"rf30\",\"t90ret\":\"rf90\"}).copy()\n",
    "\n",
    "conn.close()\n",
    "\n",
    "\n",
    "\n",
    "rf['date_MY'] = rf['date'].dt.to_period('M')\n",
    "rf = rf.iloc[1:len(rf),:]"
   ]
  },
  {
   "cell_type": "code",
   "execution_count": null,
   "metadata": {
    "collapsed": false
   },
   "outputs": [],
   "source": [
    "#repeat Steps PSet 1\n",
    "\n",
    "#load data\n",
    "\n",
    "wrds_id = 'mjgarciagomez'\n",
    "conn = wrds.Connection(wrds_username=wrds_id)\n",
    "#conn.create_pqpass_file()\n",
    "conn.close()\n",
    "\n",
    "\n",
    "conn = wrds.Connection(wrds_username=wrds_id)\n",
    "# Load CRSP returns and change variables format\n",
    "crsp_raw = conn.raw_sql(\"\"\"\n",
    "                        select a.permno, a.permco, a.date, b.shrcd, b.exchcd,\n",
    "                        a.ret, a.shrout, a.prc\n",
    "                        from crspq.msf as a\n",
    "                        left join crsp.msenames as b\n",
    "                        on a.permno=b.permno\n",
    "                        and b.namedt<=a.date\n",
    "                        and a.date<=b.nameendt\n",
    "                        where a.date between '12/01/1925' and '12/31/2022'\n",
    "                        \"\"\")\n",
    "crsp_raw[['permno', 'permco']] = crsp_raw[['permno', 'permco']].astype(int)\n",
    "crsp_raw['date'] = pd.to_datetime(crsp_raw['date'],format='%Y-%m-%d',errors='ignore')\n",
    "#crsp_raw['date'] = pd.DataFrame(crsp_raw[['date']].values.astype('datetime64[ns]')) + MonthEnd(0)\n",
    "\n",
    "# Load CRSP Delisting returns and change variables format\n",
    "dlret_raw = conn.raw_sql(\"\"\"\n",
    "                        select permno, dlret, dlstdt, dlstcd\n",
    "                        from crspq.msedelist\n",
    "                        \"\"\")\n",
    "dlret_raw.permno = dlret_raw.permno.astype(int)\n",
    "dlret_raw['dlstdt'] = pd.to_datetime(dlret_raw['dlstdt'], format='%Y-%m-%d')\n",
    "dlret_raw['date']   = dlret_raw['dlstdt']+MonthEnd(0)\n",
    "conn.close()\n",
    "\n",
    "#save pickle\n",
    "crsp_raw.to_pickle('crsp_raw.pkl')\n",
    "dlret_raw.to_pickle('dlret_raw.pkl')"
   ]
  },
  {
   "cell_type": "markdown",
   "metadata": {
    "collapsed": false
   },
   "source": [
    "# Merging with delisting"
   ]
  },
  {
   "cell_type": "code",
   "execution_count": null,
   "metadata": {
    "collapsed": false
   },
   "outputs": [],
   "source": [
    "#cleaning PSet1\n",
    "\n",
    "#Merging with delisting return (Fama and French)\n",
    "crsp = pd.merge(crsp_raw, dlret_raw, how = 'left', on = ['permno', 'date'])\n",
    "\n",
    "# Keeping common shares (share codes 10 and 11) and major exchanges (exchage code 1, 2 and 3)\n",
    "crsp = crsp[(crsp['shrcd'] == 10)| (crsp['shrcd']  == 11)]\n",
    "crsp = crsp[(crsp['exchcd']== 1) | (crsp['exchcd'] == 2) | (crsp['exchcd'] == 3)]\n",
    "\n",
    "crsp = crsp.drop(['exchcd','shrcd'], axis = 1)\n",
    "crsp = crsp.copy()\n",
    "\n",
    "# Compute returns including delisting returns\n",
    "aux = crsp[(crsp['ret'].isna() & crsp['dlret'].isna())].index\n",
    "crsp['dlret'] = crsp['dlret'].fillna(0)\n",
    "crsp['ret']   = crsp['ret'].fillna(0)\n",
    "crsp['ret']   = (1 + crsp['ret'])*(1+crsp['dlret'])-1\n",
    "crsp.loc[aux,['ret']] = np.nan\n",
    "crsp = crsp.drop(['dlstcd'], axis=1)"
   ]
  },
  {
   "cell_type": "markdown",
   "metadata": {
    "collapsed": false
   },
   "source": [
    "# Computing Market Equity"
   ]
  },
  {
   "cell_type": "code",
   "execution_count": null,
   "metadata": {
    "collapsed": false
   },
   "outputs": [],
   "source": [
    "# Market Equity ( market capitalization)\n",
    "\n",
    "crsp['me'] = crsp['prc'].abs()*crsp['shrout']  # calculate market equity\n",
    "crsp       = crsp.drop(['dlret', 'dlstdt', 'prc', 'permco', 'shrout'], axis=1)\n",
    "\n",
    "# Lagged Market Equity (to be used as weights)\n",
    "crsp       = crsp.sort_values(by = ['permno', 'date']).reset_index().drop('index', axis=1).copy()\n",
    "crsp['daten'] = crsp['date'].dt.year*12 + crsp['date'].dt.month\n",
    "crsp['IsValidLag'] = crsp['daten'].diff(1) == 1 # Lag date has to be the lagged date\n",
    "crsp.loc[crsp[crsp['permno'].diff(1) != 0].index, ['IsValidLag']] = False # Lagged data has to be the same security\n",
    "crsp['Lme'] = crsp[['permno', 'me']].groupby('permno').shift(1)\n",
    "crsp.loc[crsp[crsp['IsValidLag'] == False].index, ['Lme']] = np.nan\n",
    "crsp = crsp.drop(['IsValidLag', 'daten'], axis=1)"
   ]
  },
  {
   "cell_type": "markdown",
   "metadata": {
    "collapsed": false
   },
   "source": [
    "# Substituting missing"
   ]
  },
  {
   "cell_type": "code",
   "execution_count": null,
   "metadata": {
    "id": "f0d6bmZDGz8C"
   },
   "outputs": [],
   "source": [
    "# Substituting missing returns with zero (no trade assumption)\n",
    "# crsp.loc[crsp['ret'].isna(), 'ret'] = 0\n",
    "# or drop missing returns altogether -- better fit to French's returns series\n",
    "crsp = crsp.loc[crsp['Lme'] > 0, :].copy()"
   ]
  },
  {
   "cell_type": "code",
   "execution_count": null,
   "metadata": {
    "id": "DfgN82YGG2JU"
   },
   "outputs": [],
   "source": [
    "# Dropping securities with missing lagged market cap data (zero weight in the market portfolio)\n",
    "crsp = crsp.sort_values(by = ['date', 'permno']).reset_index().drop('index', axis = 1).copy()\n",
    "\n",
    "# Use a list to select multiple columns\n",
    "vwret = crsp.groupby(['date'])[['Lme','ret']].apply(lambda x: np.sum(x['Lme']/x['Lme'].sum()*x['ret']))\n",
    "vwret = vwret.to_frame()\n",
    "vwret.columns=['vwret']"
   ]
  },
  {
   "cell_type": "code",
   "execution_count": null,
   "metadata": {
    "id": "dxDdtDfFHB-d"
   },
   "outputs": [],
   "source": [
    "# equal weighted returns\n",
    "ewret = crsp.groupby(['date'])['ret'].mean()\n",
    "ewret = ewret.to_frame()\n",
    "ewret.columns=['ewret']\n",
    "\n",
    "#make lagged market eq variable\n",
    "Lme = crsp[['date','Lme']]\n",
    "Lme_millions = Lme.copy()\n",
    "Lme_millions.Lme = Lme_millions.Lme/1000000\n",
    "# Aggregate Market Equity\n",
    "mktcap = crsp.groupby(['date'])['me'].sum().to_frame().reset_index().rename(columns = {'me' : 'mktcap'})\n",
    "# crsp = crsp.drop(['vwret', 'w'], axis = 1).copy()\n",
    "\n",
    "# Merge replicated series with French's data\n",
    "output = mktcap.copy()\n",
    "output = pd.merge(output, vwret, how = 'outer', on = ['date'])\n",
    "output = pd.merge(output, ewret, how = 'outer', on = ['date'])"
   ]
  },
  {
   "cell_type": "code",
   "execution_count": null,
   "metadata": {
    "id": "WVWdCtkzHHNR"
   },
   "outputs": [],
   "source": [
    "mktcap_lagged = Lme_millions.groupby(['date'])['Lme'].sum().to_frame().reset_index().rename(columns = {'Lme' : 'lagged_mktcap'})\n",
    "\n",
    "mktcap_mil = pd.merge(mktcap,mktcap_lagged, how = 'outer', on = 'date')\n",
    "\n",
    "output = pd.merge(output, mktcap_mil, how = 'outer', on = ['date'])"
   ]
  },
  {
   "cell_type": "code",
   "execution_count": null,
   "metadata": {
    "colab": {
     "base_uri": "https://localhost:8080/"
    },
    "id": "F3iqKRXcHLqa",
    "outputId": "7f2ac04a-44d1-412f-ff1c-6eee6ed528ca"
   },
   "outputs": [
    {
     "name": "stdout",
     "output_type": "stream",
     "text": [
      "      Year  Month  Stock_lag_MV  Stock_Excess_Vw_Ret  Bond_lag_MV  \\\n",
      "0     1926      1     26.903953            -0.002704      19502.0   \n",
      "1     1926      2     27.032250            -0.036744      19502.0   \n",
      "2     1926      3     26.128629            -0.067653      19500.0   \n",
      "3     1926      4     24.506932             0.033663      19231.0   \n",
      "4     1926      5     25.178699             0.011629      19227.0   \n",
      "...    ...    ...           ...                  ...          ...   \n",
      "1174  2023     11           NaN                  NaN   25478472.0   \n",
      "1175  2023     12           NaN                  NaN   25720925.0   \n",
      "1176  2024      1           NaN                  NaN   25671379.0   \n",
      "1177  2024      2           NaN                  NaN   25979221.0   \n",
      "1178  2024      3           NaN                  NaN   26259737.0   \n",
      "\n",
      "      Bond_Excess_Vw_Ret  \n",
      "0               0.003878  \n",
      "1               0.001076  \n",
      "2               0.000810  \n",
      "3               0.003414  \n",
      "4               0.002287  \n",
      "...                  ...  \n",
      "1174            0.025671  \n",
      "1175            0.020633  \n",
      "1176           -0.004041  \n",
      "1177           -0.014523  \n",
      "1178            0.001234  \n",
      "\n",
      "[1179 rows x 6 columns]\n",
      "Year                     int32\n",
      "Month                    int32\n",
      "Stock_lag_MV           float64\n",
      "Stock_Excess_Vw_Ret    float64\n",
      "Bond_lag_MV            float64\n",
      "Bond_Excess_Vw_Ret     float64\n",
      "dtype: object\n"
     ]
    }
   ],
   "source": [
    "#using month-year to merge tbill rates and equities\n",
    "output['date_MY'] = output.date.dt.to_period('M')\n",
    "output = pd.merge(output, rf, how = 'outer', on = ['date_MY'])\n",
    "output = pd.merge(output, outputQ1_date, how = 'outer', on = ['date_MY'])\n",
    "\n",
    "output['Stock_Excess_Vw_Ret'] = output['vwret'] - output['rf30']\n",
    "output['Bond_Excess_Vw_Ret'] = output['Bond_Vw_Ret'] - output['rf30']\n",
    "\n",
    "output = output.rename(columns = {'lagged_mktcap':'Stock_lag_MV'})"
   ]
  },
  {
   "cell_type": "markdown",
   "metadata": {},
   "source": [
    "Aggregate stock, bond, and riskless datatables. For each year-month, calculate the lagged\n",
    "market value and excess value-weighted returns for both stocks and bonds. Your output should\n",
    "be from January 1926 to December 2022, at a monthly frequency."
   ]
  },
  {
   "cell_type": "code",
   "execution_count": null,
   "metadata": {
    "collapsed": false
   },
   "outputs": [],
   "source": [
    "outputQ2 = output[['Year','Month','Stock_lag_MV','Stock_Excess_Vw_Ret','Bond_lag_MV','Bond_Excess_Vw_Ret']]\n",
    "\n",
    "print(outputQ2)\n",
    "\n",
    "print(outputQ2.dtypes)"
   ]
  },
  {
   "cell_type": "markdown",
   "metadata": {},
   "source": [
    "Calculate the monthly unlevered and levered risk-parity portfolio returns as defined by Asness, Frazzini, and Pedersen (2012).3 For the levered risk-parity portfolio, match the value-weighted portfolio’s ˆσ over the longest matched holding period of both. Your output should be from January 1926 to December 2022, at a monthly frequency."
   ]
  },
  {
   "cell_type": "code",
   "execution_count": null,
   "metadata": {
    "colab": {
     "base_uri": "https://localhost:8080/"
    },
    "id": "Lr3VrDQIJyKI",
    "outputId": "830f8e78-9494-444e-dbac-f638e1820fc1"
   },
   "outputs": [
    {
     "name": "stdout",
     "output_type": "stream",
     "text": [
      "\\begin{tabular}{rrrrrr}\n",
      "\\toprule\n",
      " Excess Return &   T-stat &  Volatility &  Sharpe Ratio &  Skewness &  Excess Kurtosis \\\\\n",
      "\\midrule\n",
      "      7.010859 & 3.321589 &   18.937531 &      0.370210 &  0.283482 &         7.924698 \\\\\n",
      "      1.555893 & 4.332616 &    3.222015 &      0.482894 & -0.051621 &         4.867099 \\\\\n",
      "      7.051232 & 3.368537 &   18.781127 &      0.375442 &  0.298079 &         7.798625 \\\\\n",
      "      4.828873 & 3.723417 &   11.635954 &      0.414996 &  0.277261 &         7.847129 \\\\\n",
      "      2.256459 & 4.786004 &    4.230117 &      0.533427 &  0.069378 &         4.821429 \\\\\n",
      "     10.169402 & 4.877543 &   18.706489 &      0.543630 & -0.350204 &         2.012550 \\\\\n",
      "\\bottomrule\n",
      "\\end{tabular}\n",
      "\n"
     ]
    },
    {
     "name": "stderr",
     "output_type": "stream",
     "text": [
      "<ipython-input-30-da08f58d148b>:30: FutureWarning: In future versions `DataFrame.to_latex` is expected to utilise the base implementation of `Styler.to_latex` for formatting and rendering. The arguments signature may therefore change. It is recommended instead to use `DataFrame.style.to_latex` which also contains additional functionality.\n",
      "  print(outputQ4_2.to_latex(index = False))\n"
     ]
    }
   ],
   "source": [
    "df3 = output.copy()\n",
    "\n",
    "df3['w_bond_port']  = df3.Bond_lag_MV / (df3.Bond_lag_MV+df3.Stock_lag_MV)\n",
    "df3['w_stock_port'] = df3.Stock_lag_MV / (df3.Bond_lag_MV+df3.Stock_lag_MV)\n",
    "\n",
    "df3['Excess_Vw_Ret'] =  df3['vwret']*df3['w_bond_port'] + df3['Bond_Vw_Ret']*df3['w_stock_port'] - df3['rf30']\n",
    "\n",
    "\n",
    "\n",
    "df3['Excess_60_40_Ret'] = df3['vwret']*0.6 + df3['Bond_Vw_Ret']*0.4 - df3['rf30']\n",
    "df3['Excess_60_40'] = df3['Excess_60_40_Ret'].cumsum()\n",
    "\n",
    "\n",
    "\n",
    "def inverse_sigma_hat(df):\n",
    "    sigma = df.std()\n",
    "    inv_sigma = 1/sigma\n",
    "    return inv_sigma\n",
    "\n",
    "#note that I have added a .shift(1) as they use t-1:37, 3 year month window\n",
    "df3['Stock_inverse_sigma_hat'] = df3.Stock_Excess_Vw_Ret.rolling(window=36,center=False).apply(lambda x: inverse_sigma_hat(x)).shift(1)\n",
    "df3['Bond_inverse_sigma_hat'] = df3.Bond_Excess_Vw_Ret.rolling(window=36,center=False).apply(lambda x: inverse_sigma_hat(x)).shift(1)\n",
    "\n",
    "#unlevered k is 1/sum(sigma_inv all asset classes)\n",
    "# k_t = 1/(sigma_inv_stock_t + sigma_inv_bond_t)\n",
    "\n",
    "df3['Unlevered_k'] = df3[['Stock_inverse_sigma_hat','Bond_inverse_sigma_hat']].apply(lambda x: 1/np.sum(x), axis=1)\n",
    "\n",
    "df3['w_stock_unlevered'] = df3['Unlevered_k']*df3['Stock_inverse_sigma_hat']\n",
    "df3['w_bond_unlevered'] = df3['Unlevered_k']*df3['Bond_inverse_sigma_hat']\n",
    "\n",
    "df3['Excess_Unlevered_RP_Ret'] = df3['vwret']*df3['w_stock_unlevered'] + df3['Bond_Vw_Ret']*df3['w_bond_unlevered'] - df3['rf30']\n",
    "df3['Excess_Unlevered_RP'] = df3['Excess_Unlevered_RP_Ret'].cumsum()\n",
    "#choose leverd k = 0.1\n",
    "\n",
    "\n",
    "sigma_market = df3.Excess_Vw_Ret.std()\n",
    "\n",
    "df3['levered_k']  = 0.05\n",
    "\n",
    "df3['w_stock_levered']   = df3['levered_k']*df3['Stock_inverse_sigma_hat']\n",
    "df3['w_bond_levered']    = df3['levered_k']*df3['Bond_inverse_sigma_hat']\n",
    "df3['w_rf_levered']      = -1*(df3['w_stock_levered'] + df3['w_bond_levered'] -1)\n",
    "df3['Excess_Levered_RP_Ret'] = df3['vwret']*df3['w_stock_levered'] + df3['Bond_Vw_Ret']*df3['w_bond_levered'] + df3['w_rf_levered']*df3['rf30'] - df3['rf30']\n",
    "df3['Excess_Levered_RP'] = df3['Excess_Levered_RP_Ret'].cumsum()\n",
    "\n",
    "\n",
    "def sigma_levered_k(k_lev):\n",
    "#    df3['levered_k'] = k_lev\n",
    "\n",
    "    df3['w_stock_levered']   = k_lev*df3['Stock_inverse_sigma_hat']\n",
    "    df3['w_bond_levered']    = k_lev*df3['Bond_inverse_sigma_hat']\n",
    "    df3['w_rf_levered']      = -1*(df3['w_stock_levered'] + df3['w_bond_levered'] -1)\n",
    "    df3['Excess_Levered_RP_Ret'] = df3['vwret']*df3['w_stock_levered'] + df3['Bond_Vw_Ret']*df3['w_bond_levered'] + df3['w_rf_levered']*df3['rf30'] - df3['rf30']\n",
    "\n",
    "    return np.abs(sigma_market-df3['Excess_Levered_RP_Ret'].std())\n",
    "\n",
    "result = optimize.minimize(sigma_levered_k , 10 )\n",
    "\n",
    "\n",
    "print(result)\n",
    "\n",
    "df3['levered_k'] = result.x[0]\n",
    "df3['w_stock_levered']   = df3['levered_k']*df3['Stock_inverse_sigma_hat']\n",
    "df3['w_bond_levered']    = df3['levered_k']*df3['Bond_inverse_sigma_hat']\n",
    "df3['w_rf_levered']      = -1*(df3['w_stock_levered'] + df3['w_bond_levered'] -1)\n",
    "df3['Excess_Levered_RP_Ret'] = df3['vwret']*df3['w_stock_levered'] + df3['Bond_Vw_Ret']*df3['w_bond_levered'] + df3['w_rf_levered']*df3['rf30'] - df3['rf30']\n",
    "df3['Excess_Levered_RP'] = df3['Excess_Levered_RP_Ret'].cumsum()\n",
    "\n",
    "\n",
    "plt.plot(df3[['Excess_Unlevered_RP','Excess_Levered_RP','Excess_60_40']])\n",
    "plt.legend(['Excess_Unlevered_RP','Excess_Levered_RP','Excess_60_40'])\n"
   ]
  },
  {
   "cell_type": "code",
   "execution_count": null,
   "metadata": {
    "collapsed": false
   },
   "outputs": [],
   "source": [
    "\n",
    "\n",
    "outputQ3 = df3[['Year','Month','Stock_Excess_Vw_Ret','Bond_Excess_Vw_Ret','Excess_Vw_Ret','Excess_60_40_Ret','Stock_inverse_sigma_hat','Bond_inverse_sigma_hat','Unlevered_k','Excess_Unlevered_RP_Ret','levered_k','Excess_Levered_RP_Ret']]\n",
    "\n",
    "print(outputQ3)\n",
    "print(outputQ3.dtypes)\n"
   ]
  },
  {
   "cell_type": "markdown",
   "metadata": {},
   "source": [
    "Replicate and report Panel A of Table 2 in Asness, Frazzini, and Pedersen (2012), except\n",
    "for Alpha and t-stat of Alpha columns. Specifically, for all strategies considered, report the\n",
    "annualized average excess returns, t-statistic of the average excess returns, annualized volatility,\n",
    "annualized Sharpe Ratio, skewness, and excess kurtosis. Your sample should be from January\n",
    "1930 to June 2010, at monthly frequency."
   ]
  },
  {
   "cell_type": "code",
   "execution_count": null,
   "metadata": {
    "id": "hDthIq72KURe"
   },
   "outputs": [],
   "source": [
    "\n",
    "\n",
    "df4 = df3.copy()\n",
    "\n",
    "\n",
    "df4 = df4.loc[(df4.date_MY >= '1930-01') & (df4.date_MY <= '2010-06') ].copy()\n",
    "\n",
    "df4 = df4[['Stock_Excess_Vw_Ret','Bond_Excess_Vw_Ret','Excess_Vw_Ret','Excess_60_40_Ret','Excess_Unlevered_RP_Ret','Excess_Levered_RP_Ret']]\n",
    "# =============================================================================\n",
    "#\n",
    "# df4['RP minus value-weighted'] = df4.Excess_Levered_RP_Ret - df4.Excess_Vw_Ret\n",
    "# df4['RP minus 60/40'] = df4.Excess_Levered_RP_Ret - df4.Excess_60_40_Ret\n",
    "#\n",
    "# =============================================================================\n",
    "df5 = df4.rename(columns = { 'Stock_Excess_Vw_Ret': 'CRSP stocks', 'Bond_Excess_Vw_Ret':'CRSP bonds' ,'Excess_Vw_Ret':'Value-weighted portfolio', 'Excess_60_40_Ret': '60/40 portfolio' ,  'Excess_Unlevered_RP_Ret':'RP, unlevered' , 'Excess_Levered_RP_Ret':  'RP'}).copy()\n",
    "\n",
    "df6=df5.copy()*12\n",
    "\n",
    "outputQ4 = df6.apply(lambda x: pd.Series({'Excess Return': x.mean()*100,  'T-stat' : x.mean()/x.std()*np.sqrt(len(df6)) ,'Volatility': x.std()/np.sqrt(12)*100, 'Sharpe Ratio': x.mean()/x.std()*np.sqrt(12) ,'Skewness': x.skew(), 'Excess Kurtosis': x.kurtosis() })).T\n",
    "\n",
    "\n",
    "outputQ4_2 = df5.apply(lambda x: pd.Series({'Excess Return': x.mean()*100*12,  'T-stat' : x.mean()/x.std()*np.sqrt(len(df5)) ,'Volatility': x.std()*np.sqrt(12)*100, 'Sharpe Ratio': x.mean()/x.std()*np.sqrt(12) ,'Skewness': x.skew(), 'Excess Kurtosis': x.kurtosis() })).T\n",
    "\n",
    "\n",
    "\n"
   ]
  },
  {
   "cell_type": "code",
   "execution_count": null,
   "metadata": {
    "id": "5Qit3i6NKURe",
    "outputId": "c032be43-7314-4d93-c744-53d1ca3b1b8a"
   },
   "outputs": [
    {
     "data": {
      "text/plain": [
       "Index(['PERMNO', 'SHRCD', 'EXCHCD', 'TICKER', 'COMNAM', 'CUSIP', 'DLPDT',\n",
       "       'DLSTCD', 'DLRETX', 'DLRET', 'PRC', 'RET', 'SHROUT', 'date'],\n",
       "      dtype='object')"
      ]
     },
     "execution_count": 12,
     "metadata": {},
     "output_type": "execute_result"
    }
   ],
   "source": [
    "\n",
    "print(outputQ4_2.to_latex(index = False))\n",
    "\n",
    "\n",
    "\n",
    "\n",
    "\n",
    "\n",
    "\n",
    "\n"
   ]
  },
  {
   "cell_type": "markdown",
   "metadata": {
    "collapsed": false
   },
   "source": [
    "###### Transform the date into Y M D and do MonthEnd"
   ]
  },
  {
   "cell_type": "code",
   "execution_count": null,
   "metadata": {
    "id": "_Fu6tyRgKURe"
   },
   "outputs": [],
   "source": [
    "crsp = pd.read_csv('CRSP_Stocks.csv')\n",
    "crsp['clean_date'] = pd.to_datetime(crsp['date'],format='%Y-%m-%d',errors='ignore')\n",
    "crsp['clean_date2'] = crsp['clean_date']+MonthEnd(0)\n",
    "crsp['clean_date2']"
   ]
  },
  {
   "cell_type": "code",
   "execution_count": null,
   "metadata": {
    "id": "wmhmR1a5KURe"
   },
   "outputs": [],
   "source": [
    "crsp.drop(['date', 'clean_date'], axis='columns', inplace=True)"
   ]
  },
  {
   "cell_type": "code",
   "execution_count": null,
   "metadata": {
    "collapsed": true,
    "id": "WBL8YC44KURe",
    "outputId": "d41fa67f-c714-4428-92a3-31fb6f3e5f6b"
   },
   "outputs": [
    {
     "data": {
      "text/html": [
       "<div>\n",
       "<style scoped>\n",
       "    .dataframe tbody tr th:only-of-type {\n",
       "        vertical-align: middle;\n",
       "    }\n",
       "\n",
       "    .dataframe tbody tr th {\n",
       "        vertical-align: top;\n",
       "    }\n",
       "\n",
       "    .dataframe thead th {\n",
       "        text-align: right;\n",
       "    }\n",
       "</style>\n",
       "<table border=\"1\" class=\"dataframe\">\n",
       "  <thead>\n",
       "    <tr style=\"text-align: right;\">\n",
       "      <th></th>\n",
       "      <th>PERMNO</th>\n",
       "      <th>SHRCD</th>\n",
       "      <th>EXCHCD</th>\n",
       "      <th>TICKER</th>\n",
       "      <th>COMNAM</th>\n",
       "      <th>CUSIP</th>\n",
       "      <th>DLPDT</th>\n",
       "      <th>DLSTCD</th>\n",
       "      <th>DLRETX</th>\n",
       "      <th>DLRET</th>\n",
       "      <th>PRC</th>\n",
       "      <th>RET</th>\n",
       "      <th>SHROUT</th>\n",
       "      <th>date</th>\n",
       "      <th>ME</th>\n",
       "    </tr>\n",
       "  </thead>\n",
       "  <tbody>\n",
       "    <tr>\n",
       "      <th>0</th>\n",
       "      <td>10026</td>\n",
       "      <td>11.0</td>\n",
       "      <td>3.0</td>\n",
       "      <td>JJSF</td>\n",
       "      <td>J &amp; J SNACK FOODS CORP</td>\n",
       "      <td>46603210</td>\n",
       "      <td>0</td>\n",
       "      <td>0.0</td>\n",
       "      <td>0</td>\n",
       "      <td>0</td>\n",
       "      <td>154.35001</td>\n",
       "      <td>0.067501</td>\n",
       "      <td>18783.0</td>\n",
       "      <td>2019-01-31</td>\n",
       "      <td>2.899156e+06</td>\n",
       "    </tr>\n",
       "    <tr>\n",
       "      <th>1</th>\n",
       "      <td>10026</td>\n",
       "      <td>11.0</td>\n",
       "      <td>3.0</td>\n",
       "      <td>JJSF</td>\n",
       "      <td>J &amp; J SNACK FOODS CORP</td>\n",
       "      <td>46603210</td>\n",
       "      <td>0</td>\n",
       "      <td>0.0</td>\n",
       "      <td>0</td>\n",
       "      <td>0</td>\n",
       "      <td>155.28000</td>\n",
       "      <td>0.006025</td>\n",
       "      <td>18783.0</td>\n",
       "      <td>2019-02-28</td>\n",
       "      <td>2.916624e+06</td>\n",
       "    </tr>\n",
       "    <tr>\n",
       "      <th>2</th>\n",
       "      <td>10026</td>\n",
       "      <td>11.0</td>\n",
       "      <td>3.0</td>\n",
       "      <td>JJSF</td>\n",
       "      <td>J &amp; J SNACK FOODS CORP</td>\n",
       "      <td>46603210</td>\n",
       "      <td>0</td>\n",
       "      <td>0.0</td>\n",
       "      <td>0</td>\n",
       "      <td>0</td>\n",
       "      <td>158.84000</td>\n",
       "      <td>0.026146</td>\n",
       "      <td>18815.0</td>\n",
       "      <td>2019-03-31</td>\n",
       "      <td>2.988575e+06</td>\n",
       "    </tr>\n",
       "    <tr>\n",
       "      <th>3</th>\n",
       "      <td>10026</td>\n",
       "      <td>11.0</td>\n",
       "      <td>3.0</td>\n",
       "      <td>JJSF</td>\n",
       "      <td>J &amp; J SNACK FOODS CORP</td>\n",
       "      <td>46603210</td>\n",
       "      <td>0</td>\n",
       "      <td>0.0</td>\n",
       "      <td>0</td>\n",
       "      <td>0</td>\n",
       "      <td>157.17999</td>\n",
       "      <td>-0.010451</td>\n",
       "      <td>18817.0</td>\n",
       "      <td>2019-04-30</td>\n",
       "      <td>2.957656e+06</td>\n",
       "    </tr>\n",
       "    <tr>\n",
       "      <th>4</th>\n",
       "      <td>10026</td>\n",
       "      <td>11.0</td>\n",
       "      <td>3.0</td>\n",
       "      <td>JJSF</td>\n",
       "      <td>J &amp; J SNACK FOODS CORP</td>\n",
       "      <td>46603210</td>\n",
       "      <td>0</td>\n",
       "      <td>0.0</td>\n",
       "      <td>0</td>\n",
       "      <td>0</td>\n",
       "      <td>160.85001</td>\n",
       "      <td>0.023349</td>\n",
       "      <td>18817.0</td>\n",
       "      <td>2019-05-31</td>\n",
       "      <td>3.026715e+06</td>\n",
       "    </tr>\n",
       "  </tbody>\n",
       "</table>\n",
       "</div>"
      ],
      "text/plain": [
       "   PERMNO  SHRCD  EXCHCD TICKER                  COMNAM     CUSIP DLPDT   \n",
       "0   10026   11.0     3.0   JJSF  J & J SNACK FOODS CORP  46603210     0  \\\n",
       "1   10026   11.0     3.0   JJSF  J & J SNACK FOODS CORP  46603210     0   \n",
       "2   10026   11.0     3.0   JJSF  J & J SNACK FOODS CORP  46603210     0   \n",
       "3   10026   11.0     3.0   JJSF  J & J SNACK FOODS CORP  46603210     0   \n",
       "4   10026   11.0     3.0   JJSF  J & J SNACK FOODS CORP  46603210     0   \n",
       "\n",
       "   DLSTCD DLRETX DLRET        PRC        RET   SHROUT       date            ME  \n",
       "0     0.0      0     0  154.35001   0.067501  18783.0 2019-01-31  2.899156e+06  \n",
       "1     0.0      0     0  155.28000   0.006025  18783.0 2019-02-28  2.916624e+06  \n",
       "2     0.0      0     0  158.84000   0.026146  18815.0 2019-03-31  2.988575e+06  \n",
       "3     0.0      0     0  157.17999  -0.010451  18817.0 2019-04-30  2.957656e+06  \n",
       "4     0.0      0     0  160.85001   0.023349  18817.0 2019-05-31  3.026715e+06  "
      ]
     },
     "execution_count": 21,
     "metadata": {},
     "output_type": "execute_result"
    }
   ],
   "source": [
    "crsp = crsp.rename(columns={'clean_date2': 'date'})\n",
    "crsp.columns"
   ]
  },
  {
   "cell_type": "code",
   "execution_count": null,
   "metadata": {
    "colab": {
     "base_uri": "https://localhost:8080/",
     "height": 240
    },
    "id": "ao51qGekKURe",
    "outputId": "5548601b-392b-4b66-948a-1731ae32c309"
   },
   "outputs": [],
   "source": [
    "crsp.head(2)"
   ]
  },
  {
   "cell_type": "code",
   "execution_count": null,
   "metadata": {
    "collapsed": false
   },
   "outputs": [],
   "source": [
    "# Keeping common shares (share codes 10 and 11) and major exchanges (exchage code 1, 2 and 3)\n",
    "crsp = crsp[(crsp['SHRCD'] == 10)| (crsp['SHRCD']  == 11)]\n",
    "crsp = crsp[(crsp['EXCHCD']== 1) | (crsp['EXCHCD'] == 2) | (crsp['EXCHCD'] == 3)]"
   ]
  },
  {
   "cell_type": "code",
   "execution_count": null,
   "metadata": {
    "collapsed": false
   },
   "outputs": [],
   "source": [
    "crsp['DLRET'] = crsp['DLRET'].fillna(0)\n",
    "crsp['RET']   = crsp['RET'].fillna(0)\n",
    "crsp['DLPDT']   = crsp['DLPDT'].fillna(0)\n",
    "crsp['DLSTCD']   = crsp['DLSTCD'].fillna(0)\n",
    "crsp['DLRETX']   = crsp['DLRETX'].fillna(0)"
   ]
  },
  {
   "cell_type": "code",
   "execution_count": null,
   "metadata": {
    "collapsed": false
   },
   "outputs": [],
   "source": [
    "crsp['ME'] = crsp['PRC'].abs()*crsp['SHROUT']\n"
   ]
  },
  {
   "cell_type": "code",
   "execution_count": null,
   "metadata": {
    "collapsed": false
   },
   "outputs": [],
   "source": [
    "crsp['daten'] = crsp['date'].dt.year*12 + crsp['date'].dt.month\n",
    "crsp['IsValidLag'] = crsp['daten'].diff(1) == 1 # Lag date has to be the lagged date\n",
    "crsp.loc[crsp[crsp['PERMNO'].diff(1) != 0].index, ['IsValidLag']] = False # Lagged data has to be the same security\n",
    "crsp['LME'] = crsp[['PERMNO', 'ME']].groupby('PERMNO').shift(1)\n",
    "crsp.loc[crsp[crsp['IsValidLag'] == False].index, ['LME']] = np.nan\n",
    "crsp = crsp.drop(['IsValidLag', 'daten'], axis=1)\n",
    "\n",
    "\n",
    "crsp = crsp.loc[crsp['LME'] > 0, :].copy()\n",
    "\n",
    "crsp = crsp.sort_values(by = ['date', 'PERMNO']).reset_index().drop('index', axis = 1).copy()\n",
    "\n",
    "vwret = crsp.groupby(['date'])[['LME','RET']].apply(lambda x: np.sum(x['LME']/x['LME'].sum()*x['RET']))\n",
    "\n",
    "vwret = vwret.to_frame()\n",
    "vwret.columns=['vwret']"
   ]
  }
 ],
 "metadata": {
  "colab": {
   "provenance": []
  },
  "kernelspec": {
   "display_name": "Python 3 (ipykernel)",
   "language": "python",
   "name": "python3"
  },
  "language_info": {
   "codemirror_mode": {
    "name": "ipython",
    "version": 3
   },
   "file_extension": ".py",
   "mimetype": "text/x-python",
   "name": "python",
   "nbconvert_exporter": "python",
   "pygments_lexer": "ipython3",
   "version": "3.8.8"
  }
 },
 "nbformat": 4,
 "nbformat_minor": 0
}
